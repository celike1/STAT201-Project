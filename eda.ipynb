{
 "cells": [
  {
   "cell_type": "markdown",
   "id": "9bcf8ad8-9e8f-411c-93b7-5ad5a1f253b8",
   "metadata": {},
   "source": [
    "# STAT 201 PROJECT"
   ]
  },
  {
   "cell_type": "markdown",
   "id": "e5ce174c-133d-4fac-b7e9-6f4ec0134021",
   "metadata": {},
   "source": [
    "# Part 1: Preliminary Exploratory Data Analysis"
   ]
  },
  {
   "cell_type": "code",
   "execution_count": 1,
   "id": "0f4fbe32-88be-41dd-98fa-c9fb5cfd6322",
   "metadata": {},
   "outputs": [
    {
     "name": "stderr",
     "output_type": "stream",
     "text": [
      "── \u001b[1mAttaching packages\u001b[22m ─────────────────────────────────────── tidyverse 1.3.2 ──\n",
      "\u001b[32m✔\u001b[39m \u001b[34mggplot2\u001b[39m 3.3.6      \u001b[32m✔\u001b[39m \u001b[34mpurrr  \u001b[39m 0.3.4 \n",
      "\u001b[32m✔\u001b[39m \u001b[34mtibble \u001b[39m 3.1.8      \u001b[32m✔\u001b[39m \u001b[34mdplyr  \u001b[39m 1.0.10\n",
      "\u001b[32m✔\u001b[39m \u001b[34mtidyr  \u001b[39m 1.2.1      \u001b[32m✔\u001b[39m \u001b[34mstringr\u001b[39m 1.4.1 \n",
      "\u001b[32m✔\u001b[39m \u001b[34mreadr  \u001b[39m 2.1.2      \u001b[32m✔\u001b[39m \u001b[34mforcats\u001b[39m 0.5.2 \n",
      "── \u001b[1mConflicts\u001b[22m ────────────────────────────────────────── tidyverse_conflicts() ──\n",
      "\u001b[31m✖\u001b[39m \u001b[34mdplyr\u001b[39m::\u001b[32mfilter()\u001b[39m masks \u001b[34mstats\u001b[39m::filter()\n",
      "\u001b[31m✖\u001b[39m \u001b[34mdplyr\u001b[39m::\u001b[32mlag()\u001b[39m    masks \u001b[34mstats\u001b[39m::lag()\n",
      "── \u001b[1mAttaching packages\u001b[22m ────────────────────────────────────── tidymodels 1.0.0 ──\n",
      "\n",
      "\u001b[32m✔\u001b[39m \u001b[34mbroom       \u001b[39m 1.0.1     \u001b[32m✔\u001b[39m \u001b[34mrsample     \u001b[39m 1.1.0\n",
      "\u001b[32m✔\u001b[39m \u001b[34mdials       \u001b[39m 1.0.0     \u001b[32m✔\u001b[39m \u001b[34mtune        \u001b[39m 1.0.0\n",
      "\u001b[32m✔\u001b[39m \u001b[34minfer       \u001b[39m 1.0.3     \u001b[32m✔\u001b[39m \u001b[34mworkflows   \u001b[39m 1.0.0\n",
      "\u001b[32m✔\u001b[39m \u001b[34mmodeldata   \u001b[39m 1.0.1     \u001b[32m✔\u001b[39m \u001b[34mworkflowsets\u001b[39m 1.0.0\n",
      "\u001b[32m✔\u001b[39m \u001b[34mparsnip     \u001b[39m 1.0.1     \u001b[32m✔\u001b[39m \u001b[34myardstick   \u001b[39m 1.1.0\n",
      "\u001b[32m✔\u001b[39m \u001b[34mrecipes     \u001b[39m 1.0.1     \n",
      "\n",
      "── \u001b[1mConflicts\u001b[22m ───────────────────────────────────────── tidymodels_conflicts() ──\n",
      "\u001b[31m✖\u001b[39m \u001b[34mscales\u001b[39m::\u001b[32mdiscard()\u001b[39m masks \u001b[34mpurrr\u001b[39m::discard()\n",
      "\u001b[31m✖\u001b[39m \u001b[34mdplyr\u001b[39m::\u001b[32mfilter()\u001b[39m   masks \u001b[34mstats\u001b[39m::filter()\n",
      "\u001b[31m✖\u001b[39m \u001b[34mrecipes\u001b[39m::\u001b[32mfixed()\u001b[39m  masks \u001b[34mstringr\u001b[39m::fixed()\n",
      "\u001b[31m✖\u001b[39m \u001b[34mdplyr\u001b[39m::\u001b[32mlag()\u001b[39m      masks \u001b[34mstats\u001b[39m::lag()\n",
      "\u001b[31m✖\u001b[39m \u001b[34myardstick\u001b[39m::\u001b[32mspec()\u001b[39m masks \u001b[34mreadr\u001b[39m::spec()\n",
      "\u001b[31m✖\u001b[39m \u001b[34mrecipes\u001b[39m::\u001b[32mstep()\u001b[39m   masks \u001b[34mstats\u001b[39m::step()\n",
      "\u001b[34m•\u001b[39m Dig deeper into tidy modeling with R at \u001b[32mhttps://www.tmwr.org\u001b[39m\n",
      "\n",
      "Registered S3 method overwritten by 'GGally':\n",
      "  method from   \n",
      "  +.gg   ggplot2\n",
      "\n"
     ]
    }
   ],
   "source": [
    "library(tidyverse)\n",
    "library(repr)\n",
    "library(tidymodels)\n",
    "library(GGally)\n",
    "library(cowplot)\n",
    "options(repr.matrix.max.rows = 12)"
   ]
  },
  {
   "cell_type": "code",
   "execution_count": 11,
   "id": "aa4a076e-0d52-4d93-82b5-9336c23b99cb",
   "metadata": {},
   "outputs": [
    {
     "data": {
      "text/html": [
       "<table class=\"dataframe\">\n",
       "<caption>A data.frame: 6 × 17</caption>\n",
       "<thead>\n",
       "\t<tr><th></th><th scope=col>age</th><th scope=col>job</th><th scope=col>marital</th><th scope=col>education</th><th scope=col>default</th><th scope=col>balance</th><th scope=col>housing</th><th scope=col>loan</th><th scope=col>contact</th><th scope=col>day</th><th scope=col>month</th><th scope=col>duration</th><th scope=col>campaign</th><th scope=col>pdays</th><th scope=col>previous</th><th scope=col>poutcome</th><th scope=col>y</th></tr>\n",
       "\t<tr><th></th><th scope=col>&lt;int&gt;</th><th scope=col>&lt;chr&gt;</th><th scope=col>&lt;chr&gt;</th><th scope=col>&lt;chr&gt;</th><th scope=col>&lt;chr&gt;</th><th scope=col>&lt;int&gt;</th><th scope=col>&lt;chr&gt;</th><th scope=col>&lt;chr&gt;</th><th scope=col>&lt;chr&gt;</th><th scope=col>&lt;int&gt;</th><th scope=col>&lt;chr&gt;</th><th scope=col>&lt;int&gt;</th><th scope=col>&lt;int&gt;</th><th scope=col>&lt;int&gt;</th><th scope=col>&lt;int&gt;</th><th scope=col>&lt;chr&gt;</th><th scope=col>&lt;chr&gt;</th></tr>\n",
       "</thead>\n",
       "<tbody>\n",
       "\t<tr><th scope=row>1</th><td>30</td><td>unemployed </td><td>married</td><td>primary  </td><td>no</td><td>1787</td><td>no </td><td>no </td><td>cellular</td><td>19</td><td>oct</td><td> 79</td><td>1</td><td> -1</td><td>0</td><td>unknown</td><td>no</td></tr>\n",
       "\t<tr><th scope=row>2</th><td>33</td><td>services   </td><td>married</td><td>secondary</td><td>no</td><td>4789</td><td>yes</td><td>yes</td><td>cellular</td><td>11</td><td>may</td><td>220</td><td>1</td><td>339</td><td>4</td><td>failure</td><td>no</td></tr>\n",
       "\t<tr><th scope=row>3</th><td>35</td><td>management </td><td>single </td><td>tertiary </td><td>no</td><td>1350</td><td>yes</td><td>no </td><td>cellular</td><td>16</td><td>apr</td><td>185</td><td>1</td><td>330</td><td>1</td><td>failure</td><td>no</td></tr>\n",
       "\t<tr><th scope=row>4</th><td>30</td><td>management </td><td>married</td><td>tertiary </td><td>no</td><td>1476</td><td>yes</td><td>yes</td><td>unknown </td><td> 3</td><td>jun</td><td>199</td><td>4</td><td> -1</td><td>0</td><td>unknown</td><td>no</td></tr>\n",
       "\t<tr><th scope=row>5</th><td>59</td><td>blue-collar</td><td>married</td><td>secondary</td><td>no</td><td>   0</td><td>yes</td><td>no </td><td>unknown </td><td> 5</td><td>may</td><td>226</td><td>1</td><td> -1</td><td>0</td><td>unknown</td><td>no</td></tr>\n",
       "\t<tr><th scope=row>6</th><td>35</td><td>management </td><td>single </td><td>tertiary </td><td>no</td><td> 747</td><td>no </td><td>no </td><td>cellular</td><td>23</td><td>feb</td><td>141</td><td>2</td><td>176</td><td>3</td><td>failure</td><td>no</td></tr>\n",
       "</tbody>\n",
       "</table>\n"
      ],
      "text/latex": [
       "A data.frame: 6 × 17\n",
       "\\begin{tabular}{r|lllllllllllllllll}\n",
       "  & age & job & marital & education & default & balance & housing & loan & contact & day & month & duration & campaign & pdays & previous & poutcome & y\\\\\n",
       "  & <int> & <chr> & <chr> & <chr> & <chr> & <int> & <chr> & <chr> & <chr> & <int> & <chr> & <int> & <int> & <int> & <int> & <chr> & <chr>\\\\\n",
       "\\hline\n",
       "\t1 & 30 & unemployed  & married & primary   & no & 1787 & no  & no  & cellular & 19 & oct &  79 & 1 &  -1 & 0 & unknown & no\\\\\n",
       "\t2 & 33 & services    & married & secondary & no & 4789 & yes & yes & cellular & 11 & may & 220 & 1 & 339 & 4 & failure & no\\\\\n",
       "\t3 & 35 & management  & single  & tertiary  & no & 1350 & yes & no  & cellular & 16 & apr & 185 & 1 & 330 & 1 & failure & no\\\\\n",
       "\t4 & 30 & management  & married & tertiary  & no & 1476 & yes & yes & unknown  &  3 & jun & 199 & 4 &  -1 & 0 & unknown & no\\\\\n",
       "\t5 & 59 & blue-collar & married & secondary & no &    0 & yes & no  & unknown  &  5 & may & 226 & 1 &  -1 & 0 & unknown & no\\\\\n",
       "\t6 & 35 & management  & single  & tertiary  & no &  747 & no  & no  & cellular & 23 & feb & 141 & 2 & 176 & 3 & failure & no\\\\\n",
       "\\end{tabular}\n"
      ],
      "text/markdown": [
       "\n",
       "A data.frame: 6 × 17\n",
       "\n",
       "| <!--/--> | age &lt;int&gt; | job &lt;chr&gt; | marital &lt;chr&gt; | education &lt;chr&gt; | default &lt;chr&gt; | balance &lt;int&gt; | housing &lt;chr&gt; | loan &lt;chr&gt; | contact &lt;chr&gt; | day &lt;int&gt; | month &lt;chr&gt; | duration &lt;int&gt; | campaign &lt;int&gt; | pdays &lt;int&gt; | previous &lt;int&gt; | poutcome &lt;chr&gt; | y &lt;chr&gt; |\n",
       "|---|---|---|---|---|---|---|---|---|---|---|---|---|---|---|---|---|---|\n",
       "| 1 | 30 | unemployed  | married | primary   | no | 1787 | no  | no  | cellular | 19 | oct |  79 | 1 |  -1 | 0 | unknown | no |\n",
       "| 2 | 33 | services    | married | secondary | no | 4789 | yes | yes | cellular | 11 | may | 220 | 1 | 339 | 4 | failure | no |\n",
       "| 3 | 35 | management  | single  | tertiary  | no | 1350 | yes | no  | cellular | 16 | apr | 185 | 1 | 330 | 1 | failure | no |\n",
       "| 4 | 30 | management  | married | tertiary  | no | 1476 | yes | yes | unknown  |  3 | jun | 199 | 4 |  -1 | 0 | unknown | no |\n",
       "| 5 | 59 | blue-collar | married | secondary | no |    0 | yes | no  | unknown  |  5 | may | 226 | 1 |  -1 | 0 | unknown | no |\n",
       "| 6 | 35 | management  | single  | tertiary  | no |  747 | no  | no  | cellular | 23 | feb | 141 | 2 | 176 | 3 | failure | no |\n",
       "\n"
      ],
      "text/plain": [
       "  age job         marital education default balance housing loan contact  day\n",
       "1 30  unemployed  married primary   no      1787    no      no   cellular 19 \n",
       "2 33  services    married secondary no      4789    yes     yes  cellular 11 \n",
       "3 35  management  single  tertiary  no      1350    yes     no   cellular 16 \n",
       "4 30  management  married tertiary  no      1476    yes     yes  unknown   3 \n",
       "5 59  blue-collar married secondary no         0    yes     no   unknown   5 \n",
       "6 35  management  single  tertiary  no       747    no      no   cellular 23 \n",
       "  month duration campaign pdays previous poutcome y \n",
       "1 oct    79      1         -1   0        unknown  no\n",
       "2 may   220      1        339   4        failure  no\n",
       "3 apr   185      1        330   1        failure  no\n",
       "4 jun   199      4         -1   0        unknown  no\n",
       "5 may   226      1         -1   0        unknown  no\n",
       "6 feb   141      2        176   3        failure  no"
      ]
     },
     "metadata": {},
     "output_type": "display_data"
    }
   ],
   "source": [
    "set.seed(2022)\n",
    "\n",
    "#for reproducibility\n",
    "url<- \"https://archive.ics.uci.edu/ml/machine-learning-databases/00222/bank.zip\"\n",
    "download.file(url, \"data.zip\")\n",
    "unzip(\"data.zip\")\n",
    "bank_data<- read.csv(\"bank.csv\", sep = \";\")\n",
    "\n",
    "head(bank_data)"
   ]
  },
  {
   "cell_type": "code",
   "execution_count": null,
   "id": "1d429f5d-2b31-460b-9f42-dcc39a13a4c8",
   "metadata": {},
   "outputs": [],
   "source": []
  }
 ],
 "metadata": {
  "kernelspec": {
   "display_name": "R",
   "language": "R",
   "name": "ir"
  },
  "language_info": {
   "codemirror_mode": "r",
   "file_extension": ".r",
   "mimetype": "text/x-r-source",
   "name": "R",
   "pygments_lexer": "r",
   "version": "4.1.3"
  }
 },
 "nbformat": 4,
 "nbformat_minor": 5
}

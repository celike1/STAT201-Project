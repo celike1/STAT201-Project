{
 "cells": [
  {
   "cell_type": "markdown",
   "id": "9bcf8ad8-9e8f-411c-93b7-5ad5a1f253b8",
   "metadata": {},
   "source": [
    "# STAT 201 PROJECT"
   ]
  },
  {
   "cell_type": "code",
   "execution_count": null,
   "id": "c776df05-35cc-4dc3-8628-c17d59ec6247",
   "metadata": {},
   "outputs": [],
   "source": []
  }
 ],
 "metadata": {
  "kernelspec": {
   "display_name": "R",
   "language": "R",
   "name": "ir"
  },
  "language_info": {
   "codemirror_mode": "r",
   "file_extension": ".r",
   "mimetype": "text/x-r-source",
   "name": "R",
   "pygments_lexer": "r",
   "version": "4.1.3"
  }
 },
 "nbformat": 4,
 "nbformat_minor": 5
}
